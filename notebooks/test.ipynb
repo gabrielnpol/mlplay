{
  "nbformat": 4,
  "nbformat_minor": 0,
  "metadata": {
    "colab": {
      "name": "test.ipynb",
      "version": "0.3.2",
      "provenance": []
    },
    "kernelspec": {
      "name": "python3",
      "display_name": "Python 3"
    },
    "accelerator": "GPU"
  },
  "cells": [
    {
      "metadata": {
        "colab_type": "code",
        "id": "a6X7XXDBoKDU",
        "colab": {}
      },
      "cell_type": "code",
      "source": [
        "import pandas as pd\n",
        "from keras import layers\n",
        "from keras.layers import Input, Dense, Activation, ZeroPadding2D, BatchNormalization, Flatten, Conv2D\n",
        "from keras.layers import AveragePooling2D, MaxPooling2D, Dropout, GlobalMaxPooling2D, GlobalAveragePooling2D\n",
        "from keras.models import Model\n",
        "from keras.preprocessing.image import ImageDataGenerator\n",
        "from keras.models import load_model\n",
        "import numpy as np\n",
        "import cv2"
      ],
      "execution_count": 0,
      "outputs": []
    },
    {
      "metadata": {
        "id": "WVuKRhwVMip7",
        "colab_type": "code",
        "colab": {}
      },
      "cell_type": "code",
      "source": [
        "from google.colab import drive\n",
        "drive.mount('/content/drive')\n"
      ],
      "execution_count": 0,
      "outputs": []
    },
    {
      "metadata": {
        "id": "M6dZtm-kLpob",
        "colab_type": "code",
        "colab": {}
      },
      "cell_type": "code",
      "source": [
        "datagen = ImageDataGenerator(rescale=1./255)\n",
        "\n",
        "df = pd.read_csv(\"/content/drive/My Drive/trainLabels.csv\")\n",
        "train_generator = datagen.flow_from_dataframe(dataframe=df, directory=\"/content/drive/My Drive/train_subset.zip (Unzipped Files)/train_subset\", x_col=\"id\",\n",
        "                                              y_col=\"label\", has_ext=False, class_mode=\"categorical\",\n",
        "                                              target_size=(32, 32), batch_size=32)"
      ],
      "execution_count": 0,
      "outputs": []
    },
    {
      "metadata": {
        "id": "xfDKDdTXLpoe",
        "colab_type": "code",
        "colab": {}
      },
      "cell_type": "code",
      "source": [
        "X_input = Input((32, 32, 3))\n",
        "X = ZeroPadding2D((3, 3))(X_input)\n",
        "X = Conv2D(32, (7, 7), strides=(1, 1), name='conv0')(X)\n",
        "X = BatchNormalization(axis=3, name='bn0')(X)\n",
        "X = Activation('relu')(X)\n",
        "X = MaxPooling2D((2, 2), name='max_pool')(X)\n",
        "X = Flatten()(X)\n",
        "X = Dense(10, activation='softmax', name='fc')(X)"
      ],
      "execution_count": 0,
      "outputs": []
    },
    {
      "metadata": {
        "id": "xA3oBjytLpoi",
        "colab_type": "code",
        "colab": {}
      },
      "cell_type": "code",
      "source": [
        "model = Model(inputs=X_input, outputs=X, name='Recogn')\n",
        "steps = train_generator.n//train_generator.batch_size\n",
        "\n",
        "model.compile(optimizer=\"adam\",\n",
        "              loss='categorical_crossentropy',\n",
        "              metrics=[\"accuracy\"])\n",
        "\n",
        "model.fit_generator(generator=train_generator,\n",
        "                    steps_per_epoch=steps,\n",
        "                    epochs=10)\n"
      ],
      "execution_count": 0,
      "outputs": []
    },
    {
      "metadata": {
        "id": "qh0zhetfLpoq",
        "colab_type": "code",
        "colab": {}
      },
      "cell_type": "code",
      "source": [
        "# print(train_generator.class_indices)\n",
        "# {'frog': 0, 'truck': 1, 'deer': 2, 'automobile': 3, 'bird': 4, 'horse': 5, 'ship': 6, 'cat': 7, 'dog': 8, 'airplane': 9}\n",
        "model.save(\"/content/drive/My Drive/model.h5\")\n",
        "model = load_model('/content/drive/My Drive/model.h5')\n",
        "img = cv2.imread(\"/content/drive/My Drive/train_subset.zip (Unzipped Files)/train_subset/352.png\")\n",
        "#img = cv2.resize(img,(32,32))\n",
        "img = np.reshape(img,[1,32,32,3])\n",
        "np.argmax(model.predict(img))\n"
      ],
      "execution_count": 0,
      "outputs": []
    }
  ]
}